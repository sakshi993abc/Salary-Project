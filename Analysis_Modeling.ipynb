{
 "cells": [
  {
   "cell_type": "code",
   "execution_count": 1,
   "metadata": {},
   "outputs": [],
   "source": [
    "import pandas as pd"
   ]
  },
  {
   "cell_type": "code",
   "execution_count": 5,
   "metadata": {},
   "outputs": [],
   "source": [
    "data=pd.read_excel(\"Employees.xlsx\")"
   ]
  },
  {
   "cell_type": "code",
   "execution_count": 6,
   "metadata": {},
   "outputs": [
    {
     "data": {
      "text/html": [
       "<div>\n",
       "<style scoped>\n",
       "    .dataframe tbody tr th:only-of-type {\n",
       "        vertical-align: middle;\n",
       "    }\n",
       "\n",
       "    .dataframe tbody tr th {\n",
       "        vertical-align: top;\n",
       "    }\n",
       "\n",
       "    .dataframe thead th {\n",
       "        text-align: right;\n",
       "    }\n",
       "</style>\n",
       "<table border=\"1\" class=\"dataframe\">\n",
       "  <thead>\n",
       "    <tr style=\"text-align: right;\">\n",
       "      <th></th>\n",
       "      <th>No</th>\n",
       "      <th>First Name</th>\n",
       "      <th>Last Name</th>\n",
       "      <th>Gender</th>\n",
       "      <th>Start Date</th>\n",
       "      <th>Years</th>\n",
       "      <th>Department</th>\n",
       "      <th>Country</th>\n",
       "      <th>Center</th>\n",
       "      <th>Monthly Salary</th>\n",
       "      <th>Annual Salary</th>\n",
       "      <th>Job Rate</th>\n",
       "      <th>Sick Leaves</th>\n",
       "      <th>Unpaid Leaves</th>\n",
       "      <th>Overtime Hours</th>\n",
       "    </tr>\n",
       "  </thead>\n",
       "  <tbody>\n",
       "    <tr>\n",
       "      <th>0</th>\n",
       "      <td>1</td>\n",
       "      <td>Ghadir</td>\n",
       "      <td>Hmshw</td>\n",
       "      <td>Male</td>\n",
       "      <td>2018-04-04</td>\n",
       "      <td>2</td>\n",
       "      <td>Quality Control</td>\n",
       "      <td>Egypt</td>\n",
       "      <td>West</td>\n",
       "      <td>1560</td>\n",
       "      <td>18720</td>\n",
       "      <td>3.0</td>\n",
       "      <td>1</td>\n",
       "      <td>0</td>\n",
       "      <td>183</td>\n",
       "    </tr>\n",
       "    <tr>\n",
       "      <th>1</th>\n",
       "      <td>2</td>\n",
       "      <td>Omar</td>\n",
       "      <td>Hishan</td>\n",
       "      <td>Male</td>\n",
       "      <td>2020-05-21</td>\n",
       "      <td>0</td>\n",
       "      <td>Quality Control</td>\n",
       "      <td>Saudi Arabia</td>\n",
       "      <td>West</td>\n",
       "      <td>3247</td>\n",
       "      <td>38964</td>\n",
       "      <td>1.0</td>\n",
       "      <td>0</td>\n",
       "      <td>5</td>\n",
       "      <td>198</td>\n",
       "    </tr>\n",
       "    <tr>\n",
       "      <th>2</th>\n",
       "      <td>3</td>\n",
       "      <td>Ailya</td>\n",
       "      <td>Sharaf</td>\n",
       "      <td>Female</td>\n",
       "      <td>2017-09-28</td>\n",
       "      <td>3</td>\n",
       "      <td>Major Mfg Projects</td>\n",
       "      <td>Saudi Arabia</td>\n",
       "      <td>West</td>\n",
       "      <td>2506</td>\n",
       "      <td>30072</td>\n",
       "      <td>2.0</td>\n",
       "      <td>0</td>\n",
       "      <td>3</td>\n",
       "      <td>192</td>\n",
       "    </tr>\n",
       "    <tr>\n",
       "      <th>3</th>\n",
       "      <td>4</td>\n",
       "      <td>Lwiy</td>\n",
       "      <td>Qbany</td>\n",
       "      <td>Male</td>\n",
       "      <td>2018-08-14</td>\n",
       "      <td>2</td>\n",
       "      <td>Manufacturing</td>\n",
       "      <td>United Arab Emirates</td>\n",
       "      <td>Main</td>\n",
       "      <td>1828</td>\n",
       "      <td>21936</td>\n",
       "      <td>3.0</td>\n",
       "      <td>0</td>\n",
       "      <td>0</td>\n",
       "      <td>7</td>\n",
       "    </tr>\n",
       "    <tr>\n",
       "      <th>4</th>\n",
       "      <td>5</td>\n",
       "      <td>Ahmad</td>\n",
       "      <td>Bikri</td>\n",
       "      <td>Male</td>\n",
       "      <td>2020-03-11</td>\n",
       "      <td>0</td>\n",
       "      <td>Manufacturing</td>\n",
       "      <td>Egypt</td>\n",
       "      <td>Main</td>\n",
       "      <td>970</td>\n",
       "      <td>11640</td>\n",
       "      <td>5.0</td>\n",
       "      <td>0</td>\n",
       "      <td>5</td>\n",
       "      <td>121</td>\n",
       "    </tr>\n",
       "    <tr>\n",
       "      <th>...</th>\n",
       "      <td>...</td>\n",
       "      <td>...</td>\n",
       "      <td>...</td>\n",
       "      <td>...</td>\n",
       "      <td>...</td>\n",
       "      <td>...</td>\n",
       "      <td>...</td>\n",
       "      <td>...</td>\n",
       "      <td>...</td>\n",
       "      <td>...</td>\n",
       "      <td>...</td>\n",
       "      <td>...</td>\n",
       "      <td>...</td>\n",
       "      <td>...</td>\n",
       "      <td>...</td>\n",
       "    </tr>\n",
       "    <tr>\n",
       "      <th>684</th>\n",
       "      <td>685</td>\n",
       "      <td>Sari</td>\n",
       "      <td>Hanna</td>\n",
       "      <td>Male</td>\n",
       "      <td>2020-05-26</td>\n",
       "      <td>0</td>\n",
       "      <td>Marketing</td>\n",
       "      <td>Lebanon</td>\n",
       "      <td>South</td>\n",
       "      <td>1452</td>\n",
       "      <td>17424</td>\n",
       "      <td>2.0</td>\n",
       "      <td>0</td>\n",
       "      <td>3</td>\n",
       "      <td>1</td>\n",
       "    </tr>\n",
       "    <tr>\n",
       "      <th>685</th>\n",
       "      <td>686</td>\n",
       "      <td>Eubayda</td>\n",
       "      <td>Kayd</td>\n",
       "      <td>Male</td>\n",
       "      <td>2020-06-03</td>\n",
       "      <td>0</td>\n",
       "      <td>Facilities/Engineering</td>\n",
       "      <td>Egypt</td>\n",
       "      <td>North</td>\n",
       "      <td>3237</td>\n",
       "      <td>38844</td>\n",
       "      <td>3.0</td>\n",
       "      <td>1</td>\n",
       "      <td>0</td>\n",
       "      <td>4</td>\n",
       "    </tr>\n",
       "    <tr>\n",
       "      <th>686</th>\n",
       "      <td>687</td>\n",
       "      <td>Khalil</td>\n",
       "      <td>Alkalu</td>\n",
       "      <td>Male</td>\n",
       "      <td>2017-07-11</td>\n",
       "      <td>3</td>\n",
       "      <td>Facilities/Engineering</td>\n",
       "      <td>Egypt</td>\n",
       "      <td>North</td>\n",
       "      <td>2819</td>\n",
       "      <td>33828</td>\n",
       "      <td>5.0</td>\n",
       "      <td>0</td>\n",
       "      <td>0</td>\n",
       "      <td>0</td>\n",
       "    </tr>\n",
       "    <tr>\n",
       "      <th>687</th>\n",
       "      <td>688</td>\n",
       "      <td>Muhamad</td>\n",
       "      <td>Shrbjy</td>\n",
       "      <td>Male</td>\n",
       "      <td>2018-05-30</td>\n",
       "      <td>2</td>\n",
       "      <td>Creative</td>\n",
       "      <td>Egypt</td>\n",
       "      <td>North</td>\n",
       "      <td>2069</td>\n",
       "      <td>24828</td>\n",
       "      <td>3.0</td>\n",
       "      <td>0</td>\n",
       "      <td>0</td>\n",
       "      <td>10</td>\n",
       "    </tr>\n",
       "    <tr>\n",
       "      <th>688</th>\n",
       "      <td>689</td>\n",
       "      <td>Abd Albasit</td>\n",
       "      <td>AlAhmar</td>\n",
       "      <td>Male</td>\n",
       "      <td>2020-08-05</td>\n",
       "      <td>0</td>\n",
       "      <td>IT</td>\n",
       "      <td>United Arab Emirates</td>\n",
       "      <td>North</td>\n",
       "      <td>2606</td>\n",
       "      <td>31272</td>\n",
       "      <td>5.0</td>\n",
       "      <td>0</td>\n",
       "      <td>0</td>\n",
       "      <td>0</td>\n",
       "    </tr>\n",
       "  </tbody>\n",
       "</table>\n",
       "<p>689 rows × 15 columns</p>\n",
       "</div>"
      ],
      "text/plain": [
       "      No   First Name Last Name  Gender Start Date  Years  \\\n",
       "0      1       Ghadir     Hmshw    Male 2018-04-04      2   \n",
       "1      2         Omar    Hishan    Male 2020-05-21      0   \n",
       "2      3        Ailya    Sharaf  Female 2017-09-28      3   \n",
       "3      4         Lwiy     Qbany    Male 2018-08-14      2   \n",
       "4      5        Ahmad     Bikri    Male 2020-03-11      0   \n",
       "..   ...          ...       ...     ...        ...    ...   \n",
       "684  685         Sari     Hanna    Male 2020-05-26      0   \n",
       "685  686      Eubayda      Kayd    Male 2020-06-03      0   \n",
       "686  687       Khalil    Alkalu    Male 2017-07-11      3   \n",
       "687  688      Muhamad    Shrbjy    Male 2018-05-30      2   \n",
       "688  689  Abd Albasit   AlAhmar    Male 2020-08-05      0   \n",
       "\n",
       "                 Department               Country Center  Monthly Salary  \\\n",
       "0           Quality Control                 Egypt   West            1560   \n",
       "1           Quality Control          Saudi Arabia   West            3247   \n",
       "2        Major Mfg Projects          Saudi Arabia   West            2506   \n",
       "3             Manufacturing  United Arab Emirates   Main            1828   \n",
       "4             Manufacturing                 Egypt   Main             970   \n",
       "..                      ...                   ...    ...             ...   \n",
       "684               Marketing               Lebanon  South            1452   \n",
       "685  Facilities/Engineering                 Egypt  North            3237   \n",
       "686  Facilities/Engineering                 Egypt  North            2819   \n",
       "687                Creative                 Egypt  North            2069   \n",
       "688                      IT  United Arab Emirates  North            2606   \n",
       "\n",
       "     Annual Salary  Job Rate  Sick Leaves  Unpaid Leaves  Overtime Hours  \n",
       "0            18720       3.0            1              0             183  \n",
       "1            38964       1.0            0              5             198  \n",
       "2            30072       2.0            0              3             192  \n",
       "3            21936       3.0            0              0               7  \n",
       "4            11640       5.0            0              5             121  \n",
       "..             ...       ...          ...            ...             ...  \n",
       "684          17424       2.0            0              3               1  \n",
       "685          38844       3.0            1              0               4  \n",
       "686          33828       5.0            0              0               0  \n",
       "687          24828       3.0            0              0              10  \n",
       "688          31272       5.0            0              0               0  \n",
       "\n",
       "[689 rows x 15 columns]"
      ]
     },
     "execution_count": 6,
     "metadata": {},
     "output_type": "execute_result"
    }
   ],
   "source": [
    "data"
   ]
  },
  {
   "cell_type": "code",
   "execution_count": 7,
   "metadata": {},
   "outputs": [
    {
     "data": {
      "text/html": [
       "<div>\n",
       "<style scoped>\n",
       "    .dataframe tbody tr th:only-of-type {\n",
       "        vertical-align: middle;\n",
       "    }\n",
       "\n",
       "    .dataframe tbody tr th {\n",
       "        vertical-align: top;\n",
       "    }\n",
       "\n",
       "    .dataframe thead th {\n",
       "        text-align: right;\n",
       "    }\n",
       "</style>\n",
       "<table border=\"1\" class=\"dataframe\">\n",
       "  <thead>\n",
       "    <tr style=\"text-align: right;\">\n",
       "      <th></th>\n",
       "      <th>No</th>\n",
       "      <th>First Name</th>\n",
       "      <th>Last Name</th>\n",
       "      <th>Gender</th>\n",
       "      <th>Start Date</th>\n",
       "      <th>Years</th>\n",
       "      <th>Department</th>\n",
       "      <th>Country</th>\n",
       "      <th>Center</th>\n",
       "      <th>Monthly Salary</th>\n",
       "      <th>Annual Salary</th>\n",
       "      <th>Job Rate</th>\n",
       "      <th>Sick Leaves</th>\n",
       "      <th>Unpaid Leaves</th>\n",
       "      <th>Overtime Hours</th>\n",
       "    </tr>\n",
       "  </thead>\n",
       "  <tbody>\n",
       "    <tr>\n",
       "      <th>0</th>\n",
       "      <td>1</td>\n",
       "      <td>Ghadir</td>\n",
       "      <td>Hmshw</td>\n",
       "      <td>Male</td>\n",
       "      <td>2018-04-04</td>\n",
       "      <td>2</td>\n",
       "      <td>Quality Control</td>\n",
       "      <td>Egypt</td>\n",
       "      <td>West</td>\n",
       "      <td>1560</td>\n",
       "      <td>18720</td>\n",
       "      <td>3.0</td>\n",
       "      <td>1</td>\n",
       "      <td>0</td>\n",
       "      <td>183</td>\n",
       "    </tr>\n",
       "    <tr>\n",
       "      <th>1</th>\n",
       "      <td>2</td>\n",
       "      <td>Omar</td>\n",
       "      <td>Hishan</td>\n",
       "      <td>Male</td>\n",
       "      <td>2020-05-21</td>\n",
       "      <td>0</td>\n",
       "      <td>Quality Control</td>\n",
       "      <td>Saudi Arabia</td>\n",
       "      <td>West</td>\n",
       "      <td>3247</td>\n",
       "      <td>38964</td>\n",
       "      <td>1.0</td>\n",
       "      <td>0</td>\n",
       "      <td>5</td>\n",
       "      <td>198</td>\n",
       "    </tr>\n",
       "    <tr>\n",
       "      <th>2</th>\n",
       "      <td>3</td>\n",
       "      <td>Ailya</td>\n",
       "      <td>Sharaf</td>\n",
       "      <td>Female</td>\n",
       "      <td>2017-09-28</td>\n",
       "      <td>3</td>\n",
       "      <td>Major Mfg Projects</td>\n",
       "      <td>Saudi Arabia</td>\n",
       "      <td>West</td>\n",
       "      <td>2506</td>\n",
       "      <td>30072</td>\n",
       "      <td>2.0</td>\n",
       "      <td>0</td>\n",
       "      <td>3</td>\n",
       "      <td>192</td>\n",
       "    </tr>\n",
       "    <tr>\n",
       "      <th>3</th>\n",
       "      <td>4</td>\n",
       "      <td>Lwiy</td>\n",
       "      <td>Qbany</td>\n",
       "      <td>Male</td>\n",
       "      <td>2018-08-14</td>\n",
       "      <td>2</td>\n",
       "      <td>Manufacturing</td>\n",
       "      <td>United Arab Emirates</td>\n",
       "      <td>Main</td>\n",
       "      <td>1828</td>\n",
       "      <td>21936</td>\n",
       "      <td>3.0</td>\n",
       "      <td>0</td>\n",
       "      <td>0</td>\n",
       "      <td>7</td>\n",
       "    </tr>\n",
       "    <tr>\n",
       "      <th>4</th>\n",
       "      <td>5</td>\n",
       "      <td>Ahmad</td>\n",
       "      <td>Bikri</td>\n",
       "      <td>Male</td>\n",
       "      <td>2020-03-11</td>\n",
       "      <td>0</td>\n",
       "      <td>Manufacturing</td>\n",
       "      <td>Egypt</td>\n",
       "      <td>Main</td>\n",
       "      <td>970</td>\n",
       "      <td>11640</td>\n",
       "      <td>5.0</td>\n",
       "      <td>0</td>\n",
       "      <td>5</td>\n",
       "      <td>121</td>\n",
       "    </tr>\n",
       "  </tbody>\n",
       "</table>\n",
       "</div>"
      ],
      "text/plain": [
       "   No First Name Last Name  Gender Start Date  Years          Department  \\\n",
       "0   1     Ghadir     Hmshw    Male 2018-04-04      2     Quality Control   \n",
       "1   2       Omar    Hishan    Male 2020-05-21      0     Quality Control   \n",
       "2   3      Ailya    Sharaf  Female 2017-09-28      3  Major Mfg Projects   \n",
       "3   4       Lwiy     Qbany    Male 2018-08-14      2       Manufacturing   \n",
       "4   5      Ahmad     Bikri    Male 2020-03-11      0       Manufacturing   \n",
       "\n",
       "                Country Center  Monthly Salary  Annual Salary  Job Rate  \\\n",
       "0                 Egypt   West            1560          18720       3.0   \n",
       "1          Saudi Arabia   West            3247          38964       1.0   \n",
       "2          Saudi Arabia   West            2506          30072       2.0   \n",
       "3  United Arab Emirates   Main            1828          21936       3.0   \n",
       "4                 Egypt   Main             970          11640       5.0   \n",
       "\n",
       "   Sick Leaves  Unpaid Leaves  Overtime Hours  \n",
       "0            1              0             183  \n",
       "1            0              5             198  \n",
       "2            0              3             192  \n",
       "3            0              0               7  \n",
       "4            0              5             121  "
      ]
     },
     "execution_count": 7,
     "metadata": {},
     "output_type": "execute_result"
    }
   ],
   "source": [
    "data.head()"
   ]
  },
  {
   "cell_type": "code",
   "execution_count": 8,
   "metadata": {},
   "outputs": [
    {
     "data": {
      "text/html": [
       "<div>\n",
       "<style scoped>\n",
       "    .dataframe tbody tr th:only-of-type {\n",
       "        vertical-align: middle;\n",
       "    }\n",
       "\n",
       "    .dataframe tbody tr th {\n",
       "        vertical-align: top;\n",
       "    }\n",
       "\n",
       "    .dataframe thead th {\n",
       "        text-align: right;\n",
       "    }\n",
       "</style>\n",
       "<table border=\"1\" class=\"dataframe\">\n",
       "  <thead>\n",
       "    <tr style=\"text-align: right;\">\n",
       "      <th></th>\n",
       "      <th>No</th>\n",
       "      <th>First Name</th>\n",
       "      <th>Last Name</th>\n",
       "      <th>Gender</th>\n",
       "      <th>Start Date</th>\n",
       "      <th>Years</th>\n",
       "      <th>Department</th>\n",
       "      <th>Country</th>\n",
       "      <th>Center</th>\n",
       "      <th>Monthly Salary</th>\n",
       "      <th>Annual Salary</th>\n",
       "      <th>Job Rate</th>\n",
       "      <th>Sick Leaves</th>\n",
       "      <th>Unpaid Leaves</th>\n",
       "      <th>Overtime Hours</th>\n",
       "    </tr>\n",
       "  </thead>\n",
       "  <tbody>\n",
       "    <tr>\n",
       "      <th>684</th>\n",
       "      <td>685</td>\n",
       "      <td>Sari</td>\n",
       "      <td>Hanna</td>\n",
       "      <td>Male</td>\n",
       "      <td>2020-05-26</td>\n",
       "      <td>0</td>\n",
       "      <td>Marketing</td>\n",
       "      <td>Lebanon</td>\n",
       "      <td>South</td>\n",
       "      <td>1452</td>\n",
       "      <td>17424</td>\n",
       "      <td>2.0</td>\n",
       "      <td>0</td>\n",
       "      <td>3</td>\n",
       "      <td>1</td>\n",
       "    </tr>\n",
       "    <tr>\n",
       "      <th>685</th>\n",
       "      <td>686</td>\n",
       "      <td>Eubayda</td>\n",
       "      <td>Kayd</td>\n",
       "      <td>Male</td>\n",
       "      <td>2020-06-03</td>\n",
       "      <td>0</td>\n",
       "      <td>Facilities/Engineering</td>\n",
       "      <td>Egypt</td>\n",
       "      <td>North</td>\n",
       "      <td>3237</td>\n",
       "      <td>38844</td>\n",
       "      <td>3.0</td>\n",
       "      <td>1</td>\n",
       "      <td>0</td>\n",
       "      <td>4</td>\n",
       "    </tr>\n",
       "    <tr>\n",
       "      <th>686</th>\n",
       "      <td>687</td>\n",
       "      <td>Khalil</td>\n",
       "      <td>Alkalu</td>\n",
       "      <td>Male</td>\n",
       "      <td>2017-07-11</td>\n",
       "      <td>3</td>\n",
       "      <td>Facilities/Engineering</td>\n",
       "      <td>Egypt</td>\n",
       "      <td>North</td>\n",
       "      <td>2819</td>\n",
       "      <td>33828</td>\n",
       "      <td>5.0</td>\n",
       "      <td>0</td>\n",
       "      <td>0</td>\n",
       "      <td>0</td>\n",
       "    </tr>\n",
       "    <tr>\n",
       "      <th>687</th>\n",
       "      <td>688</td>\n",
       "      <td>Muhamad</td>\n",
       "      <td>Shrbjy</td>\n",
       "      <td>Male</td>\n",
       "      <td>2018-05-30</td>\n",
       "      <td>2</td>\n",
       "      <td>Creative</td>\n",
       "      <td>Egypt</td>\n",
       "      <td>North</td>\n",
       "      <td>2069</td>\n",
       "      <td>24828</td>\n",
       "      <td>3.0</td>\n",
       "      <td>0</td>\n",
       "      <td>0</td>\n",
       "      <td>10</td>\n",
       "    </tr>\n",
       "    <tr>\n",
       "      <th>688</th>\n",
       "      <td>689</td>\n",
       "      <td>Abd Albasit</td>\n",
       "      <td>AlAhmar</td>\n",
       "      <td>Male</td>\n",
       "      <td>2020-08-05</td>\n",
       "      <td>0</td>\n",
       "      <td>IT</td>\n",
       "      <td>United Arab Emirates</td>\n",
       "      <td>North</td>\n",
       "      <td>2606</td>\n",
       "      <td>31272</td>\n",
       "      <td>5.0</td>\n",
       "      <td>0</td>\n",
       "      <td>0</td>\n",
       "      <td>0</td>\n",
       "    </tr>\n",
       "  </tbody>\n",
       "</table>\n",
       "</div>"
      ],
      "text/plain": [
       "      No   First Name Last Name Gender Start Date  Years  \\\n",
       "684  685         Sari     Hanna   Male 2020-05-26      0   \n",
       "685  686      Eubayda      Kayd   Male 2020-06-03      0   \n",
       "686  687       Khalil    Alkalu   Male 2017-07-11      3   \n",
       "687  688      Muhamad    Shrbjy   Male 2018-05-30      2   \n",
       "688  689  Abd Albasit   AlAhmar   Male 2020-08-05      0   \n",
       "\n",
       "                 Department               Country Center  Monthly Salary  \\\n",
       "684               Marketing               Lebanon  South            1452   \n",
       "685  Facilities/Engineering                 Egypt  North            3237   \n",
       "686  Facilities/Engineering                 Egypt  North            2819   \n",
       "687                Creative                 Egypt  North            2069   \n",
       "688                      IT  United Arab Emirates  North            2606   \n",
       "\n",
       "     Annual Salary  Job Rate  Sick Leaves  Unpaid Leaves  Overtime Hours  \n",
       "684          17424       2.0            0              3               1  \n",
       "685          38844       3.0            1              0               4  \n",
       "686          33828       5.0            0              0               0  \n",
       "687          24828       3.0            0              0              10  \n",
       "688          31272       5.0            0              0               0  "
      ]
     },
     "execution_count": 8,
     "metadata": {},
     "output_type": "execute_result"
    }
   ],
   "source": [
    "data.tail()"
   ]
  },
  {
   "cell_type": "code",
   "execution_count": 13,
   "metadata": {},
   "outputs": [
    {
     "name": "stdout",
     "output_type": "stream",
     "text": [
      "<class 'pandas.core.frame.DataFrame'>\n",
      "RangeIndex: 689 entries, 0 to 688\n",
      "Data columns (total 15 columns):\n",
      " #   Column          Non-Null Count  Dtype         \n",
      "---  ------          --------------  -----         \n",
      " 0   No              689 non-null    int64         \n",
      " 1   First Name      689 non-null    object        \n",
      " 2   Last Name       689 non-null    object        \n",
      " 3   Gender          689 non-null    object        \n",
      " 4   Start Date      689 non-null    datetime64[ns]\n",
      " 5   Years           689 non-null    int64         \n",
      " 6   Department      689 non-null    object        \n",
      " 7   Country         689 non-null    object        \n",
      " 8   Center          689 non-null    object        \n",
      " 9   Monthly Salary  689 non-null    int64         \n",
      " 10  Annual Salary   689 non-null    int64         \n",
      " 11  Job Rate        689 non-null    float64       \n",
      " 12  Sick Leaves     689 non-null    int64         \n",
      " 13  Unpaid Leaves   689 non-null    int64         \n",
      " 14  Overtime Hours  689 non-null    int64         \n",
      "dtypes: datetime64[ns](1), float64(1), int64(7), object(6)\n",
      "memory usage: 80.9+ KB\n"
     ]
    }
   ],
   "source": [
    "data.info()"
   ]
  },
  {
   "cell_type": "code",
   "execution_count": 10,
   "metadata": {},
   "outputs": [
    {
     "data": {
      "text/plain": [
       "(689, 15)"
      ]
     },
     "execution_count": 10,
     "metadata": {},
     "output_type": "execute_result"
    }
   ],
   "source": [
    "data.shape"
   ]
  },
  {
   "cell_type": "code",
   "execution_count": 14,
   "metadata": {},
   "outputs": [
    {
     "data": {
      "text/plain": [
       "No                0\n",
       "First Name        0\n",
       "Last Name         0\n",
       "Gender            0\n",
       "Start Date        0\n",
       "Years             0\n",
       "Department        0\n",
       "Country           0\n",
       "Center            0\n",
       "Monthly Salary    0\n",
       "Annual Salary     0\n",
       "Job Rate          0\n",
       "Sick Leaves       0\n",
       "Unpaid Leaves     0\n",
       "Overtime Hours    0\n",
       "dtype: int64"
      ]
     },
     "execution_count": 14,
     "metadata": {},
     "output_type": "execute_result"
    }
   ],
   "source": [
    "data.isnull().sum()"
   ]
  },
  {
   "cell_type": "code",
   "execution_count": 17,
   "metadata": {},
   "outputs": [
    {
     "data": {
      "text/plain": [
       "0      False\n",
       "1      False\n",
       "2      False\n",
       "3      False\n",
       "4      False\n",
       "       ...  \n",
       "684    False\n",
       "685    False\n",
       "686    False\n",
       "687    False\n",
       "688    False\n",
       "Length: 689, dtype: bool"
      ]
     },
     "execution_count": 17,
     "metadata": {},
     "output_type": "execute_result"
    }
   ],
   "source": [
    "data.duplicated()"
   ]
  },
  {
   "cell_type": "code",
   "execution_count": 18,
   "metadata": {},
   "outputs": [
    {
     "data": {
      "text/plain": [
       "Gender\n",
       "Male      449\n",
       "Female    240\n",
       "Name: count, dtype: int64"
      ]
     },
     "execution_count": 18,
     "metadata": {},
     "output_type": "execute_result"
    }
   ],
   "source": [
    "data[\"Gender\"].value_counts()"
   ]
  },
  {
   "cell_type": "code",
   "execution_count": 19,
   "metadata": {},
   "outputs": [],
   "source": [
    "import matplotlib.pyplot as plt"
   ]
  },
  {
   "cell_type": "code",
   "execution_count": 22,
   "metadata": {},
   "outputs": [
    {
     "data": {
      "image/png": "[encoded data removed]",
      "text/plain": [
       "<Figure size 640x480 with 1 Axes>"
      ]
     },
     "metadata": {},
     "output_type": "display_data"
    }
   ],
   "source": [
    "data[\"Gender\"].value_counts().sort_values(ascending=False).plot(kind=\"pie\")\n",
    "plt.title(\"Pie char of Gender Column\")\n",
    "plt.ylabel(\"\")\n",
    "plt.show()"
   ]
  },
  {
   "cell_type": "code",
   "execution_count": 23,
   "metadata": {},
   "outputs": [
    {
     "data": {
      "text/html": [
       "<div>\n",
       "<style scoped>\n",
       "    .dataframe tbody tr th:only-of-type {\n",
       "        vertical-align: middle;\n",
       "    }\n",
       "\n",
       "    .dataframe tbody tr th {\n",
       "        vertical-align: top;\n",
       "    }\n",
       "\n",
       "    .dataframe thead th {\n",
       "        text-align: right;\n",
       "    }\n",
       "</style>\n",
       "<table border=\"1\" class=\"dataframe\">\n",
       "  <thead>\n",
       "    <tr style=\"text-align: right;\">\n",
       "      <th></th>\n",
       "      <th>No</th>\n",
       "      <th>First Name</th>\n",
       "      <th>Last Name</th>\n",
       "      <th>Gender</th>\n",
       "      <th>Start Date</th>\n",
       "      <th>Years</th>\n",
       "      <th>Department</th>\n",
       "      <th>Country</th>\n",
       "      <th>Center</th>\n",
       "      <th>Monthly Salary</th>\n",
       "      <th>Annual Salary</th>\n",
       "      <th>Job Rate</th>\n",
       "      <th>Sick Leaves</th>\n",
       "      <th>Unpaid Leaves</th>\n",
       "      <th>Overtime Hours</th>\n",
       "    </tr>\n",
       "  </thead>\n",
       "  <tbody>\n",
       "    <tr>\n",
       "      <th>0</th>\n",
       "      <td>1</td>\n",
       "      <td>Ghadir</td>\n",
       "      <td>Hmshw</td>\n",
       "      <td>Male</td>\n",
       "      <td>2018-04-04</td>\n",
       "      <td>2</td>\n",
       "      <td>Quality Control</td>\n",
       "      <td>Egypt</td>\n",
       "      <td>West</td>\n",
       "      <td>1560</td>\n",
       "      <td>18720</td>\n",
       "      <td>3.0</td>\n",
       "      <td>1</td>\n",
       "      <td>0</td>\n",
       "      <td>183</td>\n",
       "    </tr>\n",
       "    <tr>\n",
       "      <th>1</th>\n",
       "      <td>2</td>\n",
       "      <td>Omar</td>\n",
       "      <td>Hishan</td>\n",
       "      <td>Male</td>\n",
       "      <td>2020-05-21</td>\n",
       "      <td>0</td>\n",
       "      <td>Quality Control</td>\n",
       "      <td>Saudi Arabia</td>\n",
       "      <td>West</td>\n",
       "      <td>3247</td>\n",
       "      <td>38964</td>\n",
       "      <td>1.0</td>\n",
       "      <td>0</td>\n",
       "      <td>5</td>\n",
       "      <td>198</td>\n",
       "    </tr>\n",
       "  </tbody>\n",
       "</table>\n",
       "</div>"
      ],
      "text/plain": [
       "   No First Name Last Name Gender Start Date  Years       Department  \\\n",
       "0   1     Ghadir     Hmshw   Male 2018-04-04      2  Quality Control   \n",
       "1   2       Omar    Hishan   Male 2020-05-21      0  Quality Control   \n",
       "\n",
       "        Country Center  Monthly Salary  Annual Salary  Job Rate  Sick Leaves  \\\n",
       "0         Egypt   West            1560          18720       3.0            1   \n",
       "1  Saudi Arabia   West            3247          38964       1.0            0   \n",
       "\n",
       "   Unpaid Leaves  Overtime Hours  \n",
       "0              0             183  \n",
       "1              5             198  "
      ]
     },
     "execution_count": 23,
     "metadata": {},
     "output_type": "execute_result"
    }
   ],
   "source": [
    "data.head(2)"
   ]
  },
  {
   "cell_type": "code",
   "execution_count": 25,
   "metadata": {},
   "outputs": [
    {
     "data": {
      "image/png": "[encoded data removed]",
      "text/plain": [
       "<Figure size 640x480 with 1 Axes>"
      ]
     },
     "metadata": {},
     "output_type": "display_data"
    }
   ],
   "source": [
    "plt.hist(data[\"Job Rate\"])\n",
    "plt.title(\"Histogram of Job Rates\")\n",
    "plt.xlabel(\"Rate\")\n",
    "plt.ylabel(\"Count\")\n",
    "plt.show()"
   ]
  },
  {
   "cell_type": "code",
   "execution_count": 26,
   "metadata": {},
   "outputs": [
    {
     "data": {
      "text/plain": [
       "count    689.000000\n",
       "mean       3.586357\n",
       "std        1.350125\n",
       "min        1.000000\n",
       "25%        3.000000\n",
       "50%        3.000000\n",
       "75%        5.000000\n",
       "max        5.000000\n",
       "Name: Job Rate, dtype: float64"
      ]
     },
     "execution_count": 26,
     "metadata": {},
     "output_type": "execute_result"
    }
   ],
   "source": [
    "data[\"Job Rate\"].describe()"
   ]
  },
  {
   "cell_type": "code",
   "execution_count": 30,
   "metadata": {},
   "outputs": [
    {
     "data": {
      "image/png": "[encoded data removed]",
      "text/plain": [
       "<Figure size 640x480 with 1 Axes>"
      ]
     },
     "metadata": {},
     "output_type": "display_data"
    }
   ],
   "source": [
    "data.groupby(\"Department\") [\"Annual Salary\"].mean().sort_values(ascending=False).head(7).plot(kind=\"bar\")\n",
    "plt.title(\"Average salary Graph by Department\")\n",
    "plt.xlabel(\"Department\")\n",
    "plt.ylabel(\"Average Salary\")\n",
    "plt.show()"
   ]
  },
  {
   "cell_type": "code",
   "execution_count": 31,
   "metadata": {},
   "outputs": [
    {
     "data": {
      "text/plain": [
       "Center\n",
       "East     2274.021277\n",
       "West     2068.672269\n",
       "North    2064.811594\n",
       "Main     2054.776892\n",
       "South    1981.153846\n",
       "Name: Monthly Salary, dtype: float64"
      ]
     },
     "execution_count": 31,
     "metadata": {},
     "output_type": "execute_result"
    }
   ],
   "source": [
    "data.groupby(\"Center\")[\"Monthly Salary\"].mean().sort_values(ascending=False)"
   ]
  },
  {
   "cell_type": "code",
   "execution_count": 32,
   "metadata": {},
   "outputs": [
    {
     "data": {
      "text/plain": [
       "array(['Egypt', 'Saudi Arabia', 'United Arab Emirates', 'Syria',\n",
       "       'Lebanon'], dtype=object)"
      ]
     },
     "execution_count": 32,
     "metadata": {},
     "output_type": "execute_result"
    }
   ],
   "source": [
    "data[\"Country\"].unique()"
   ]
  },
  {
   "cell_type": "code",
   "execution_count": 35,
   "metadata": {},
   "outputs": [
    {
     "data": {
      "image/png": "[encoded data removed]",
      "text/plain": [
       "<Figure size 640x480 with 1 Axes>"
      ]
     },
     "metadata": {},
     "output_type": "display_data"
    }
   ],
   "source": [
    "data.groupby(\"Country\")[\"Job Rate\"].mean().sort_values(ascending=False).plot(kind=\"bar\")\n",
    "plt.title(\"Job Rate by Countries\")\n",
    "plt.xlabel(\"Country\")\n",
    "plt.ylabel(\"Job Rate Average\")\n",
    "plt.show()"
   ]
  },
  {
   "cell_type": "code",
   "execution_count": 36,
   "metadata": {},
   "outputs": [
    {
     "data": {
      "image/png": "[encoded data removed]",
      "text/plain": [
       "<Figure size 640x480 with 1 Axes>"
      ]
     },
     "metadata": {},
     "output_type": "display_data"
    }
   ],
   "source": [
    "plt.hist(data[\"Overtime Hours\"])\n",
    "plt.title(\"History of Overtime Hours\")\n",
    "plt.xlabel(\"Overtime Hours\")\n",
    "plt.ylabel(\"Frequency\")\n",
    "plt.show()"
   ]
  },
  {
   "cell_type": "code",
   "execution_count": 37,
   "metadata": {},
   "outputs": [
    {
     "data": {
      "text/plain": [
       "count    689.000000\n",
       "mean      13.702467\n",
       "std       25.692049\n",
       "min        0.000000\n",
       "25%        3.000000\n",
       "50%        7.000000\n",
       "75%       10.000000\n",
       "max      198.000000\n",
       "Name: Overtime Hours, dtype: float64"
      ]
     },
     "execution_count": 37,
     "metadata": {},
     "output_type": "execute_result"
    }
   ],
   "source": [
    "data[\"Overtime Hours\"].describe()"
   ]
  },
  {
   "cell_type": "code",
   "execution_count": 38,
   "metadata": {},
   "outputs": [
    {
     "data": {
      "text/plain": [
       "count      689.000000\n",
       "mean     24818.420900\n",
       "std       9159.470878\n",
       "min       8436.000000\n",
       "25%      17232.000000\n",
       "50%      24924.000000\n",
       "75%      32184.000000\n",
       "max      41400.000000\n",
       "Name: Annual Salary, dtype: float64"
      ]
     },
     "execution_count": 38,
     "metadata": {},
     "output_type": "execute_result"
    }
   ],
   "source": [
    "data[\"Annual Salary\"].describe()"
   ]
  },
  {
   "cell_type": "code",
   "execution_count": 39,
   "metadata": {},
   "outputs": [
    {
     "data": {
      "text/plain": [
       "Index(['No', 'First Name', 'Last Name', 'Gender', 'Start Date', 'Years',\n",
       "       'Department', 'Country', 'Center', 'Monthly Salary', 'Annual Salary',\n",
       "       'Job Rate', 'Sick Leaves', 'Unpaid Leaves', 'Overtime Hours'],\n",
       "      dtype='object')"
      ]
     },
     "execution_count": 39,
     "metadata": {},
     "output_type": "execute_result"
    }
   ],
   "source": [
    "data.columns"
   ]
  },
  {
   "cell_type": "code",
   "execution_count": 40,
   "metadata": {},
   "outputs": [],
   "source": [
    "X=data[[\"Years\",\"Job Rate\"]]\n",
    "y=data[\"Annual Salary\"]"
   ]
  },
  {
   "cell_type": "code",
   "execution_count": 42,
   "metadata": {},
   "outputs": [],
   "source": [
    "from sklearn.model_selection import train_test_split\n",
    "x_train, x_test, y_train, y_test = train_test_split(X,y, test_size=0.2) "
   ]
  },
  {
   "cell_type": "code",
   "execution_count": 46,
   "metadata": {},
   "outputs": [
    {
     "data": {
      "text/plain": [
       "551"
      ]
     },
     "execution_count": 46,
     "metadata": {},
     "output_type": "execute_result"
    }
   ],
   "source": [
    "len(y_train)"
   ]
  },
  {
   "cell_type": "code",
   "execution_count": 47,
   "metadata": {},
   "outputs": [
    {
     "data": {
      "text/plain": [
       "138"
      ]
     },
     "execution_count": 47,
     "metadata": {},
     "output_type": "execute_result"
    }
   ],
   "source": [
    "len(x_test)"
   ]
  },
  {
   "cell_type": "code",
   "execution_count": 48,
   "metadata": {},
   "outputs": [],
   "source": [
    "from sklearn.linear_model import LinearRegression"
   ]
  },
  {
   "cell_type": "code",
   "execution_count": 49,
   "metadata": {},
   "outputs": [],
   "source": [
    "lr = LinearRegression()"
   ]
  },
  {
   "cell_type": "code",
   "execution_count": 50,
   "metadata": {},
   "outputs": [
    {
     "data": {
      "text/html": [
       "<style>#sk-container-id-1 {color: black;}#sk-container-id-1 pre{padding: 0;}#sk-container-id-1 div.sk-toggleable {background-color: white;}#sk-container-id-1 label.sk-toggleable__label {cursor: pointer;display: block;width: 100%;margin-bottom: 0;padding: 0.3em;box-sizing: border-box;text-align: center;}#sk-container-id-1 label.sk-toggleable__label-arrow:before {content: \"▸\";float: left;margin-right: 0.25em;color: #696969;}#sk-container-id-1 label.sk-toggleable__label-arrow:hover:before {color: black;}#sk-container-id-1 div.sk-estimator:hover label.sk-toggleable__label-arrow:before {color: black;}#sk-container-id-1 div.sk-toggleable__content {max-height: 0;max-width: 0;overflow: hidden;text-align: left;background-color: #f0f8ff;}#sk-container-id-1 div.sk-toggleable__content pre {margin: 0.2em;color: black;border-radius: 0.25em;background-color: #f0f8ff;}#sk-container-id-1 input.sk-toggleable__control:checked~div.sk-toggleable__content {max-height: 200px;max-width: 100%;overflow: auto;}#sk-container-id-1 input.sk-toggleable__control:checked~label.sk-toggleable__label-arrow:before {content: \"▾\";}#sk-container-id-1 div.sk-estimator input.sk-toggleable__control:checked~label.sk-toggleable__label {background-color: #d4ebff;}#sk-container-id-1 div.sk-label input.sk-toggleable__control:checked~label.sk-toggleable__label {background-color: #d4ebff;}#sk-container-id-1 input.sk-hidden--visually {border: 0;clip: rect(1px 1px 1px 1px);clip: rect(1px, 1px, 1px, 1px);height: 1px;margin: -1px;overflow: hidden;padding: 0;position: absolute;width: 1px;}#sk-container-id-1 div.sk-estimator {font-family: monospace;background-color: #f0f8ff;border: 1px dotted black;border-radius: 0.25em;box-sizing: border-box;margin-bottom: 0.5em;}#sk-container-id-1 div.sk-estimator:hover {background-color: #d4ebff;}#sk-container-id-1 div.sk-parallel-item::after {content: \"\";width: 100%;border-bottom: 1px solid gray;flex-grow: 1;}#sk-container-id-1 div.sk-label:hover label.sk-toggleable__label {background-color: #d4ebff;}#sk-container-id-1 div.sk-serial::before {content: \"\";position: absolute;border-left: 1px solid gray;box-sizing: border-box;top: 0;bottom: 0;left: 50%;z-index: 0;}#sk-container-id-1 div.sk-serial {display: flex;flex-direction: column;align-items: center;background-color: white;padding-right: 0.2em;padding-left: 0.2em;position: relative;}#sk-container-id-1 div.sk-item {position: relative;z-index: 1;}#sk-container-id-1 div.sk-parallel {display: flex;align-items: stretch;justify-content: center;background-color: white;position: relative;}#sk-container-id-1 div.sk-item::before, #sk-container-id-1 div.sk-parallel-item::before {content: \"\";position: absolute;border-left: 1px solid gray;box-sizing: border-box;top: 0;bottom: 0;left: 50%;z-index: -1;}#sk-container-id-1 div.sk-parallel-item {display: flex;flex-direction: column;z-index: 1;position: relative;background-color: white;}#sk-container-id-1 div.sk-parallel-item:first-child::after {align-self: flex-end;width: 50%;}#sk-container-id-1 div.sk-parallel-item:last-child::after {align-self: flex-start;width: 50%;}#sk-container-id-1 div.sk-parallel-item:only-child::after {width: 0;}#sk-container-id-1 div.sk-dashed-wrapped {border: 1px dashed gray;margin: 0 0.4em 0.5em 0.4em;box-sizing: border-box;padding-bottom: 0.4em;background-color: white;}#sk-container-id-1 div.sk-label label {font-family: monospace;font-weight: bold;display: inline-block;line-height: 1.2em;}#sk-container-id-1 div.sk-label-container {text-align: center;}#sk-container-id-1 div.sk-container {/* jupyter's `normalize.less` sets `[hidden] { display: none; }` but bootstrap.min.css set `[hidden] { display: none !important; }` so we also need the `!important` here to be able to override the default hidden behavior on the sphinx rendered scikit-learn.org. See: https://github.com/scikit-learn/scikit-learn/issues/21755 */display: inline-block !important;position: relative;}#sk-container-id-1 div.sk-text-repr-fallback {display: none;}</style><div id=\"sk-container-id-1\" class=\"sk-top-container\"><div class=\"sk-text-repr-fallback\"><pre>LinearRegression()</pre><b>In a Jupyter environment, please rerun this cell to show the HTML representation or trust the notebook. <br />On GitHub, the HTML representation is unable to render, please try loading this page with nbviewer.org.</b></div><div class=\"sk-container\" hidden><div class=\"sk-item\"><div class=\"sk-estimator sk-toggleable\"><input class=\"sk-toggleable__control sk-hidden--visually\" id=\"sk-estimator-id-1\" type=\"checkbox\" checked><label for=\"sk-estimator-id-1\" class=\"sk-toggleable__label sk-toggleable__label-arrow\">LinearRegression</label><div class=\"sk-toggleable__content\"><pre>LinearRegression()</pre></div></div></div></div></div>"
      ],
      "text/plain": [
       "LinearRegression()"
      ]
     },
     "execution_count": 50,
     "metadata": {},
     "output_type": "execute_result"
    }
   ],
   "source": [
    "lr.fit(x_train, y_train)"
   ]
  },
  {
   "cell_type": "code",
   "execution_count": 52,
   "metadata": {},
   "outputs": [],
   "source": [
    "predslr= lr.predict(x_test)"
   ]
  },
  {
   "cell_type": "code",
   "execution_count": 53,
   "metadata": {},
   "outputs": [],
   "source": [
    "from sklearn.metrics import mean_absolute_error"
   ]
  },
  {
   "cell_type": "code",
   "execution_count": 54,
   "metadata": {},
   "outputs": [
    {
     "data": {
      "text/plain": [
       "7313.692716212984"
      ]
     },
     "execution_count": 54,
     "metadata": {},
     "output_type": "execute_result"
    }
   ],
   "source": [
    "mean_absolute_error(predslr, y_test)"
   ]
  },
  {
   "cell_type": "code",
   "execution_count": 56,
   "metadata": {},
   "outputs": [
    {
     "data": {
      "text/html": [
       "<div>\n",
       "<style scoped>\n",
       "    .dataframe tbody tr th:only-of-type {\n",
       "        vertical-align: middle;\n",
       "    }\n",
       "\n",
       "    .dataframe tbody tr th {\n",
       "        vertical-align: top;\n",
       "    }\n",
       "\n",
       "    .dataframe thead th {\n",
       "        text-align: right;\n",
       "    }\n",
       "</style>\n",
       "<table border=\"1\" class=\"dataframe\">\n",
       "  <thead>\n",
       "    <tr style=\"text-align: right;\">\n",
       "      <th></th>\n",
       "      <th>Years</th>\n",
       "      <th>Job Rate</th>\n",
       "    </tr>\n",
       "  </thead>\n",
       "  <tbody>\n",
       "    <tr>\n",
       "      <th>0</th>\n",
       "      <td>2</td>\n",
       "      <td>3.0</td>\n",
       "    </tr>\n",
       "    <tr>\n",
       "      <th>1</th>\n",
       "      <td>0</td>\n",
       "      <td>1.0</td>\n",
       "    </tr>\n",
       "    <tr>\n",
       "      <th>2</th>\n",
       "      <td>3</td>\n",
       "      <td>2.0</td>\n",
       "    </tr>\n",
       "    <tr>\n",
       "      <th>3</th>\n",
       "      <td>2</td>\n",
       "      <td>3.0</td>\n",
       "    </tr>\n",
       "    <tr>\n",
       "      <th>4</th>\n",
       "      <td>0</td>\n",
       "      <td>5.0</td>\n",
       "    </tr>\n",
       "    <tr>\n",
       "      <th>...</th>\n",
       "      <td>...</td>\n",
       "      <td>...</td>\n",
       "    </tr>\n",
       "    <tr>\n",
       "      <th>684</th>\n",
       "      <td>0</td>\n",
       "      <td>2.0</td>\n",
       "    </tr>\n",
       "    <tr>\n",
       "      <th>685</th>\n",
       "      <td>0</td>\n",
       "      <td>3.0</td>\n",
       "    </tr>\n",
       "    <tr>\n",
       "      <th>686</th>\n",
       "      <td>3</td>\n",
       "      <td>5.0</td>\n",
       "    </tr>\n",
       "    <tr>\n",
       "      <th>687</th>\n",
       "      <td>2</td>\n",
       "      <td>3.0</td>\n",
       "    </tr>\n",
       "    <tr>\n",
       "      <th>688</th>\n",
       "      <td>0</td>\n",
       "      <td>5.0</td>\n",
       "    </tr>\n",
       "  </tbody>\n",
       "</table>\n",
       "<p>689 rows × 2 columns</p>\n",
       "</div>"
      ],
      "text/plain": [
       "     Years  Job Rate\n",
       "0        2       3.0\n",
       "1        0       1.0\n",
       "2        3       2.0\n",
       "3        2       3.0\n",
       "4        0       5.0\n",
       "..     ...       ...\n",
       "684      0       2.0\n",
       "685      0       3.0\n",
       "686      3       5.0\n",
       "687      2       3.0\n",
       "688      0       5.0\n",
       "\n",
       "[689 rows x 2 columns]"
      ]
     },
     "execution_count": 56,
     "metadata": {},
     "output_type": "execute_result"
    }
   ],
   "source": [
    "X"
   ]
  },
  {
   "cell_type": "code",
   "execution_count": 57,
   "metadata": {},
   "outputs": [
    {
     "data": {
      "text/plain": [
       "['LinearModel.pkl']"
      ]
     },
     "execution_count": 57,
     "metadata": {},
     "output_type": "execute_result"
    }
   ],
   "source": [
    "import joblib\n",
    "joblib.dump(lr, \"LinearModel.pkl\")"
   ]
  },
  {
   "cell_type": "code",
   "execution_count": null,
   "metadata": {},
   "outputs": [],
   "source": []
  }
 ],
 "metadata": {
  "kernelspec": {
   "display_name": "Python 3",
   "language": "python",
   "name": "python3"
  },
  "language_info": {
   "codemirror_mode": {
    "name": "ipython",
    "version": 3
   },
   "file_extension": ".py",
   "mimetype": "text/x-python",
   "name": "python",
   "nbconvert_exporter": "python",
   "pygments_lexer": "ipython3",
   "version": "3.11.5"
  }
 },
 "nbformat": 4,
 "nbformat_minor": 2
}
